{
 "cells": [
  {
   "cell_type": "markdown",
   "metadata": {},
   "source": [
    "## A simple dictionary based approach that I tried to generate augmented text."
   ]
  },
  {
   "cell_type": "markdown",
   "metadata": {},
   "source": [
    "### Word Replacement\n",
    "> Replaces words within sentences with their synonyms. Works better on larger sentences."
   ]
  },
  {
   "cell_type": "code",
   "execution_count": 11,
   "metadata": {},
   "outputs": [
    {
     "name": "stdout",
     "output_type": "stream",
     "text": [
      "SMS Zähringen was a pre-dreadnought battleship of the Wittelsbach class of the Imperial German Navy\n",
      "SMS Zähringen was a pre-dreadnought battleship of the Wittelsbach class of the Imperial German Navy\n",
      "\n",
      "\n",
      "\n",
      "\n",
      "\n",
      "\n"
     ]
    }
   ],
   "source": [
    "from nltk import word_tokenize\n",
    "from nltk.corpus import stopwords\n",
    "\n",
    "stoplist = stopwords.words('english')\n",
    "\n",
    "\n",
    "def get_synonyms_lexicon(path):\n",
    "    synonyms_lexicon = {}\n",
    "    text_entries = [l.strip() for l in open(path).readlines()]\n",
    "    for e in text_entries:\n",
    "        e = e.split(' ')\n",
    "        k = e[0]\n",
    "        v = e[1:len(e)]\n",
    "        synonyms_lexicon[k] = v\n",
    "    return synonyms_lexicon\n",
    "\n",
    "\n",
    "def synonym_replacement(sentence, synonyms_lexicon):\n",
    "    keys = synonyms_lexicon.keys()\n",
    "    words = word_tokenize(sentence)\n",
    "    n_sentence = sentence\n",
    "    for w in words:\n",
    "        if w not in stoplist:\n",
    "            if w in keys:\n",
    "                n_sentence = n_sentence.replace(w, synonyms_lexicon[w][0])  # we replace with the first synonym\n",
    "    return n_sentence\n",
    "\n",
    "\n",
    "if __name__ == '__main__':\n",
    "    text = 'SMS Zähringen was a pre-dreadnought battleship of the Wittelsbach class of the Imperial German Navy'+'.'\n",
    "    sentences = text.split('.')\n",
    "    sentences.remove('')\n",
    "    #print sentences\n",
    "    synonyms_lexicon = get_synonyms_lexicon('./dictionary.txt')\n",
    "    for sentence in sentences:\n",
    "        new_sentence = synonym_replacement(sentence, synonyms_lexicon)\n",
    "        print('%s' % sentence)\n",
    "        print ('%s' % new_sentence)\n",
    "        print ('\\n')\n"
   ]
  },
  {
   "cell_type": "markdown",
   "metadata": {},
   "source": [
    "### Word shuffling\n",
    "> Works on the method on nPr, generates permutations."
   ]
  },
  {
   "cell_type": "code",
   "execution_count": 14,
   "metadata": {},
   "outputs": [],
   "source": [
    "from nltk import word_tokenize\n",
    "import random\n",
    "\n",
    "\n",
    "def augment(sentence,n):\n",
    "    new_sentences = []\n",
    "    words = word_tokenize(sentence)\n",
    "    for i in range(n):\n",
    "        random.shuffle(words)\n",
    "        new_sentences.append(' '.join(words))\n",
    "    new_sentences = list(set(new_sentences))\n",
    "    return new_sentences\n",
    "\n",
    "\n",
    "nsentences = augment(\"my new year resolution is to perfect many things as the main solution\",10)\n",
    "result =[]\n",
    "for s in nsentences:\n",
    "    result.append(s)"
   ]
  },
  {
   "cell_type": "code",
   "execution_count": 15,
   "metadata": {},
   "outputs": [
    {
     "data": {
      "text/plain": [
       "['is my as main things resolution perfect year solution many to the new',\n",
       " 'year resolution to main many the things is solution new perfect my as',\n",
       " 'year the to many new things resolution solution perfect is main as my',\n",
       " 'to main things resolution is solution perfect year as new my the many',\n",
       " 'as resolution new main my many solution the year to is things perfect',\n",
       " 'solution as is many main my year new resolution the perfect things to',\n",
       " 'the solution year is main perfect many to new my resolution things as',\n",
       " 'things many resolution the year solution as my is new perfect to main',\n",
       " 'many year things as my resolution perfect to new is the main solution',\n",
       " 'as solution new resolution the perfect my to is many year main things']"
      ]
     },
     "execution_count": 15,
     "metadata": {},
     "output_type": "execute_result"
    }
   ],
   "source": [
    "result"
   ]
  },
  {
   "cell_type": "code",
   "execution_count": null,
   "metadata": {},
   "outputs": [],
   "source": []
  }
 ],
 "metadata": {
  "kernelspec": {
   "display_name": "Python 3",
   "language": "python",
   "name": "python3"
  },
  "language_info": {
   "codemirror_mode": {
    "name": "ipython",
    "version": 3
   },
   "file_extension": ".py",
   "mimetype": "text/x-python",
   "name": "python",
   "nbconvert_exporter": "python",
   "pygments_lexer": "ipython3",
   "version": "3.7.4"
  }
 },
 "nbformat": 4,
 "nbformat_minor": 2
}
